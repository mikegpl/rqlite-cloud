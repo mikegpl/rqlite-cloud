{
 "cells": [
  {
   "cell_type": "code",
   "execution_count": 2,
   "metadata": {},
   "outputs": [
    {
     "name": "stdout",
     "output_type": "stream",
     "text": [
      "Collecting git+git://github.com/rqlite/pyrqlite.git\n",
      "  Cloning git://github.com/rqlite/pyrqlite.git to /tmp/pip-req-build-bsuatjoj\n",
      "Building wheels for collected packages: pyrqlite\n",
      "  Building wheel for pyrqlite (setup.py) ... \u001b[?25ldone\n",
      "\u001b[?25h  Stored in directory: /tmp/pip-ephem-wheel-cache-45lzhpc4/wheels/cc/0e/79/bad482b7ee736abefbda5efac560bc553711e437d66063b589\n",
      "Successfully built pyrqlite\n",
      "Installing collected packages: pyrqlite\n",
      "Successfully installed pyrqlite-HEAD\n",
      "\u001b[33mYou are using pip version 19.0.3, however version 20.2b1 is available.\n",
      "You should consider upgrading via the 'pip install --upgrade pip' command.\u001b[0m\n"
     ]
    }
   ],
   "source": [
    "! pip install --user git+git://github.com/rqlite/pyrqlite.git"
   ]
  },
  {
   "cell_type": "code",
   "execution_count": 3,
   "metadata": {},
   "outputs": [],
   "source": [
    "import pyrqlite.dbapi2 as dbapi2\n",
    "\n",
    "# Connect to the database\n",
    "connection = dbapi2.connect(\n",
    "    host='localhost',\n",
    "    port=4001,\n",
    ")"
   ]
  },
  {
   "cell_type": "code",
   "execution_count": 4,
   "metadata": {},
   "outputs": [
    {
     "name": "stdout",
     "output_type": "stream",
     "text": [
      "OrderedDict([('id', 1), ('name', 'a')])\n",
      "OrderedDict([('id', 2), ('name', 'b')])\n"
     ]
    }
   ],
   "source": [
    "\n",
    "try:\n",
    "    with connection.cursor() as cursor:\n",
    "        cursor.execute('CREATE TABLE foo (id integer not null primary key, name text)')\n",
    "        cursor.executemany('INSERT INTO foo(name) VALUES(?)', seq_of_parameters=(('a',), ('b',)))\n",
    "\n",
    "    with connection.cursor() as cursor:\n",
    "        # Read a single record with qmark parameter style\n",
    "        sql = \"SELECT `id`, `name` FROM `foo` WHERE `name`=?\"\n",
    "        cursor.execute(sql, ('a',))\n",
    "        result = cursor.fetchone()\n",
    "        print(result)\n",
    "        # Read a single record with named parameter style\n",
    "        sql = \"SELECT `id`, `name` FROM `foo` WHERE `name`=:name\"\n",
    "        cursor.execute(sql, {'name': 'b'})\n",
    "        result = cursor.fetchone()\n",
    "        print(result)\n",
    "finally:\n",
    "    connection.close()"
   ]
  },
  {
   "cell_type": "code",
   "execution_count": 14,
   "metadata": {},
   "outputs": [],
   "source": [
    "with connection.cursor() as cursor:\n",
    "    for i in range(0, 1000):\n",
    "        cursor.executemany('INSERT INTO foo(name) VALUES(?)', seq_of_parameters=(('ararab' + str(i),), ('bcq',)))"
   ]
  },
  {
   "cell_type": "code",
   "execution_count": 13,
   "metadata": {},
   "outputs": [
    {
     "name": "stdout",
     "output_type": "stream",
     "text": [
      "[(1, 'a'), (2, 'b'), (3, 'ab'), (4, 'bc'), (5, 'ararab'), (6, 'bcq')]\n"
     ]
    }
   ],
   "source": [
    "with connection.cursor() as cursor:\n",
    "    # Read a single record with qmark parameter style\n",
    "    sql = \"SELECT `id`, `name` FROM `foo`\"\n",
    "    cursor.execute(sql)\n",
    "    result = cursor.fetchall()\n",
    "    print(result)"
   ]
  },
  {
   "cell_type": "code",
   "execution_count": null,
   "metadata": {},
   "outputs": [],
   "source": []
  }
 ],
 "metadata": {
  "kernelspec": {
   "display_name": "Python 3",
   "language": "python",
   "name": "python3"
  },
  "language_info": {
   "codemirror_mode": {
    "name": "ipython",
    "version": 3
   },
   "file_extension": ".py",
   "mimetype": "text/x-python",
   "name": "python",
   "nbconvert_exporter": "python",
   "pygments_lexer": "ipython3",
   "version": "3.5.2"
  }
 },
 "nbformat": 4,
 "nbformat_minor": 2
}
